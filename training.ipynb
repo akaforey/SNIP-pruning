{
 "cells": [
  {
   "cell_type": "markdown",
   "metadata": {},
   "source": [
    "# Source code for ICLR Reproducibility Challenge"
   ]
  },
  {
   "cell_type": "code",
   "execution_count": 1,
   "metadata": {},
   "outputs": [
    {
     "name": "stderr",
     "output_type": "stream",
     "text": [
      "C:\\Users\\gaha\\Workspace\\Repositories\\SNIP-pruning\\datasets.py:49: UserWarning: To copy construct from a tensor, it is recommended to use sourceTensor.clone().detach() or sourceTensor.clone().detach().requires_grad_(True), rather than torch.tensor(sourceTensor).\n",
      "  tmnist_x = TransformStandarize()(torch.tensor(mnist_full_x, device=DEVICE, dtype=torch.float))\n",
      "C:\\Users\\gaha\\Workspace\\Repositories\\SNIP-pruning\\datasets.py:50: UserWarning: To copy construct from a tensor, it is recommended to use sourceTensor.clone().detach() or sourceTensor.clone().detach().requires_grad_(True), rather than torch.tensor(sourceTensor).\n",
      "  tmnist_y = torch.tensor(mnist_full_y, device=DEVICE, dtype=torch.long)\n"
     ]
    }
   ],
   "source": [
    "import matplotlib.pyplot as plt\n",
    "from torchvision import datasets\n",
    "import numpy as np\n",
    "import torch\n",
    "\n",
    "DEVICE = 'cpu'\n",
    "\n",
    "from datasets import RamLoader\n",
    "from pruning import Pruner\n",
    "from models import LeNet5\n",
    "from network import NN"
   ]
  },
  {
   "cell_type": "markdown",
   "metadata": {},
   "source": [
    "# Network training"
   ]
  },
  {
   "cell_type": "code",
   "execution_count": null,
   "metadata": {},
   "outputs": [
    {
     "name": "stdout",
     "output_type": "stream",
     "text": [
      "number of weights to prune: [150, 6, 2400, 16, 48000, 120, 10080, 84, 840, 10]\n",
      "weights left:  [150, 6, 2385, 16, 40034, 107, 5982, 62, 613, 10]\n",
      "sparsities:  [0.0, 0.0, 0.62, 0.0, 16.6, 10.83, 40.65, 26.19, 27.02, 0.0]\n",
      "TRAINING:\n",
      "epoch      | time       | error rate   - mistakes...\n",
      "\n",
      "Epoch    0 | time 1.500 | lr 0.10000 | tr 100.000% | eval 95.100% - 8559 mis\n",
      "Epoch    5 | time 1.04e+02 | lr 0.10000 | tr   5.357% | eval  4.300% - 387 mis\n",
      "Epoch   10 | time 1.04e+02 | lr 0.10000 | tr   5.357% | eval  4.156% - 374 mis\n",
      "Epoch   15 | time 1.02e+02 | lr 0.10000 | tr   1.786% | eval  4.533% - 408 mis\n",
      "Epoch   20 | time 1.09e+02 | lr 0.10000 | tr   0.000% | eval  2.744% - 247 mis\n",
      "Epoch   25 | time 1.09e+02 | lr 0.10000 | tr   3.571% | eval  3.156% - 284 mis\n",
      "Epoch   30 | time 1.04e+02 | lr 0.10000 | tr   7.143% | eval  2.467% - 222 mis\n",
      "Epoch   35 | time 1.02e+02 | lr 0.10000 | tr   1.786% | eval  3.278% - 295 mis\n",
      "Epoch   40 | time 1.06e+02 | lr 0.10000 | tr   3.571% | eval  3.167% - 285 mis\n",
      "Epoch   45 | time 1.08e+02 | lr 0.01000 | tr   0.000% | eval  1.489% - 134 mis\n"
     ]
    }
   ],
   "source": [
    "model = LeNet5()\n",
    "nn = NN(model, DEVICE)\n",
    "\n",
    "prune = Pruner(model, RamLoader['train'], DEVICE, silent=False)\n",
    "prune.snip(0.2)\n",
    "\n",
    "loop_operation=[prune.indicate]\n",
    "\n",
    "nn.optim = torch.optim.SGD(model.parameters(), lr = 0.1, momentum=0.9, weight_decay=0.0005)\n",
    "nn.scheduler = torch.optim.lr_scheduler.StepLR(nn.optim, step_size=40, gamma=0.1)\n",
    "\n",
    "hist = nn.fit(RamLoader, torch.nn.CrossEntropyLoss(), s_report=float('inf'),\n",
    "              v_report=5, max_epochs=140, silent=False, loop_operation=loop_operation)"
   ]
  }
 ],
 "metadata": {
  "kernelspec": {
   "display_name": "Python 3",
   "language": "python",
   "name": "python3"
  },
  "language_info": {
   "codemirror_mode": {
    "name": "ipython",
    "version": 3
   },
   "file_extension": ".py",
   "mimetype": "text/x-python",
   "name": "python",
   "nbconvert_exporter": "python",
   "pygments_lexer": "ipython3",
   "version": "3.7.4"
  }
 },
 "nbformat": 4,
 "nbformat_minor": 4
}
