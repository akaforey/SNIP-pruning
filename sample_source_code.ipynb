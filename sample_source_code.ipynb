{
 "cells": [
  {
   "cell_type": "markdown",
   "metadata": {},
   "source": [
    "# Source code for ICLR Reproducibility Challenge"
   ]
  },
  {
   "cell_type": "markdown",
   "metadata": {},
   "source": [
    "### Load packages"
   ]
  },
  {
   "cell_type": "code",
   "execution_count": 1,
   "metadata": {},
   "outputs": [],
   "source": [
    "import matplotlib.pyplot as plt\n",
    "from torchvision import *\n",
    "import torch as pt\n",
    "import numpy as np\n",
    "\n",
    "DEVICE = 'cuda'"
   ]
  },
  {
   "cell_type": "markdown",
   "metadata": {},
   "source": [
    "### Load data from disk"
   ]
  },
  {
   "cell_type": "code",
   "execution_count": 2,
   "metadata": {},
   "outputs": [],
   "source": [
    "data = np.load('mnist.npz')\n",
    "mnist_full_x = np.concatenate([data['train_data'], data['test_data']])\n",
    "mnist_full_y = np.concatenate([data['train_labels'], data['test_labels']])"
   ]
  },
  {
   "cell_type": "code",
   "execution_count": 3,
   "metadata": {},
   "outputs": [],
   "source": [
    "'''\n",
    "Loader code\n",
    "it splits the data into training and validation set\n",
    "it returns two generators\n",
    "'''\n",
    "\n",
    "def RamLoad(dataset, labels, split=1, batch_size=1,\n",
    "                   t_trans=transforms.Compose([]), v_trans=transforms.Compose([])):\n",
    "    \n",
    "    class RamLoader(pt.utils.data.DataLoader): \n",
    "        def __init__(self, data, labels, transform, **kwargs):\n",
    "            super().__init__(pt.utils.data.TensorDataset(data,labels), **kwargs)\n",
    "            self.dataset.transform = transform\n",
    "    \n",
    "    indices = pt.randperm(dataset.shape[0])\n",
    "    split_point = int(split*dataset.shape[0])\n",
    "    train_data = dataset[ indices[:split_point] ]; train_labels= labels[ indices[:split_point] ]\n",
    "    valid_data = dataset[ indices[split_point:] ]; valid_labels= labels[ indices[split_point:] ]\n",
    "    \n",
    "    return {'train':RamLoader(train_data, train_labels, transform=t_trans, batch_size=batch_size, shuffle=True),\n",
    "            'eval' :RamLoader(valid_data, valid_labels, transform=v_trans, batch_size=batch_size, shuffle=False)}"
   ]
  },
  {
   "cell_type": "code",
   "execution_count": 4,
   "metadata": {},
   "outputs": [],
   "source": [
    "'''\n",
    "Useful data transformations\n",
    "'''\n",
    "\n",
    "class TransformFlatten:\n",
    "    def __call__(self, x):\n",
    "        return x.view(x.shape[0], -1)\n",
    "    \n",
    "class TransformStandarize:\n",
    "    def __init__(self, mean=0, std=1):\n",
    "        self.mean, self.std = mean, std\n",
    "    def __call__(self, x):\n",
    "        return (x - pt.mean(x) + self.mean) / pt.std(x) * self.std"
   ]
  },
  {
   "cell_type": "code",
   "execution_count": 5,
   "metadata": {},
   "outputs": [],
   "source": [
    "'''\n",
    "Data is ready from here\n",
    "'''\n",
    "\n",
    "tmnist_x = TransformStandarize()(pt.tensor(mnist_full_x, device=DEVICE, dtype=pt.float))\n",
    "tmnist_y = pt.tensor(mnist_full_y, device=DEVICE, dtype=pt.long)\n",
    "\n",
    "RamLoader = RamLoad(tmnist_x, tmnist_y, split=0.85, batch_size=128)"
   ]
  },
  {
   "cell_type": "markdown",
   "metadata": {},
   "source": [
    "# Neural network code"
   ]
  },
  {
   "cell_type": "code",
   "execution_count": 33,
   "metadata": {},
   "outputs": [],
   "source": [
    "l = LayerFlatten()"
   ]
  },
  {
   "cell_type": "code",
   "execution_count": 42,
   "metadata": {},
   "outputs": [],
   "source": [
    "import time\n",
    "\n",
    "'''\n",
    "One can flatten the data before sending to classifier\n",
    "And thicken to ensure that it has depth to go through convolutional layers\n",
    "'''\n",
    "\n",
    "class LayerFlatten(pt.nn.Module):\n",
    "    def forward(self, x): return x.view(x.shape[0], -1)\n",
    "    \n",
    "class LayerThicken(pt.nn.Module):\n",
    "    def forward(self, x):\n",
    "        if x.dim()==4:\n",
    "            if x.shape[-1]==3 or x.shape[-1]==1:\n",
    "                x = x.transpose(1,-1)\n",
    "            return x\n",
    "        if x.dim()==3:\n",
    "            return x[:,None,:,:]\n",
    "        if x.dim()==2:\n",
    "            n, m = x.shape\n",
    "            return x[n, None, int(m**0.5), m-int(m**0.5)]\n",
    "\n",
    "class NN:\n",
    "    def __init__(self, model, device): # nn = NN(model, prepr, 'cpu')\n",
    "        super().__init__()\n",
    "        self.model = model.to(device)\n",
    "        self.device = device\n",
    "        self.epoch = 0\n",
    "        \n",
    "        # DEFAULTS\n",
    "        self.optim = pt.optim.SGD(params=model.parameters(), lr=0.1)\n",
    "        self.scheduler = pt.optim.lr_scheduler.ExponentialLR(self.optim, gamma=0.99)\n",
    "    \n",
    "    def fit(self, data_loader, loss, silent=False, s_report=100, v_report=1, max_epochs=float('inf'), loop_operation=[]):\n",
    "        try:\n",
    "            if not silent:\n",
    "                print(\"TRAINING:\\n{:<10} | {:<10} | {:<12} - {}\\n\".format\\\n",
    "                      ('epoch', 'time', 'error rate', 'mistakes...'))\n",
    "            \n",
    "            i, result = 0, 0\n",
    "            self.stime = time.time()\n",
    "            eval_length = data_loader['eval'].dataset.__len__()\n",
    "            history = {'train':{'i':[], 'e':[], 'l':[]}, 'eval':{'i':[], 'e':[]}}\n",
    "            self.scheduler.last_epoch = self.epoch-1\n",
    "            \n",
    "            while True:\n",
    "                self.scheduler.step()\n",
    "                if not self.epoch % v_report:\n",
    "                    res = self.evaluate(data_loader['eval'], eval_length, result, silent)\n",
    "                    history['eval']['e'].append(float(res)); history['eval']['i'].append(i)\n",
    "                    \n",
    "                self.epoch+=1\n",
    "                self.model.train()\n",
    "                for x, y in data_loader['train']:\n",
    "                    self.optim.zero_grad()\n",
    "                    x = self.model.forward(x)\n",
    "                    L = loss(x, y)\n",
    "                    i+=1\n",
    "                    \n",
    "                    L.backward()\n",
    "                    with pt.no_grad():\n",
    "                        self.optim.step()\n",
    "                        result = pt.sum(pt.argmax(x, dim=-1)==y, dtype=pt.float)/x.shape[0]\n",
    "                        for op in loop_operation: op() # You can run some additional, outside functions here running every iteration\n",
    "                           \n",
    "                    if not i%s_report:\n",
    "                        history['train']['e'].append(float(100-100*result))\n",
    "                        history['train']['l'].append(float(L)); history['train']['i'].append(i)\n",
    "                        if not silent: self.report(i, L, result)\n",
    "                        \n",
    "    \n",
    "                    \n",
    "                if self.epoch>=max_epochs: break\n",
    "        except KeyboardInterrupt: pass\n",
    "        res = self.evaluate(data_loader['eval'], eval_length, result, silent)\n",
    "        history['eval']['e'].append(float(res)); history['eval']['i'].append(i)\n",
    "        if not silent:\n",
    "            self.draw_history(history)\n",
    "        return history\n",
    "    \n",
    "    def report(self, iteration, loss, error):\n",
    "        print( \"Iter {:>5} | err {:>5.2f}% | loss {:<5.3f}\".format(iteration, 100-100*error, loss), end='\\r' )\n",
    "    \n",
    "    def evaluate(self, data_loader, eval_length, train_error, silent=False):\n",
    "        self.model.eval()\n",
    "        with pt.no_grad():\n",
    "            result = pt.tensor(0.)\n",
    "            for x, y in data_loader:\n",
    "                x = self.model.forward(x)\n",
    "                predicts = pt.argmax(x, dim=-1)\n",
    "                result += pt.sum(y==predicts)\n",
    "        if not silent:\n",
    "            print( \"Epoch {:>4} | time {:0<5.3} | lr {:0<7.4} | tr {:>7.3f}% | eval {:>6.3f}% - {} mis\".format( self.epoch,\n",
    "                    time.time()-self.stime, self.optim.param_groups[0]['lr'],\n",
    "                                                                100-100*train_error, 100-100*result/eval_length, int(eval_length-result)))\n",
    "        self.stime = time.time()\n",
    "        return 100 - 100*result/eval_length\n",
    "        \n",
    "    def predict(self, data, answers=None, silent=False):\n",
    "        self.model.eval()\n",
    "        with pt.no_grad():\n",
    "            x = self.model.forward(data)\n",
    "            x = pt.argmax(x, dim=-1)\n",
    "        if answers is None: return x\n",
    "        res = pt.sum(x==answers, dtype=pt.float) / x.shape[0]\n",
    "        if not silent: print(\"Accuracy: {:>6.3f}%\".format(100 * res))\n",
    "        return float(res)\n",
    "    \n",
    "    def draw_history(self, history):\n",
    "        print('\\n'); plt.figure(figsize=(15,4)); plt.subplot(121)\n",
    "        plt.plot(history['train']['i'], history['train']['l'])\n",
    "        plt.xlabel('iterations'); plt.ylabel('training loss'); plt.grid(True, linewidth=0.2); plt.subplot(122)\n",
    "        plt.plot(history['eval']['i'][1:], history['eval']['e'][1:], label='evaluation')\n",
    "        plt.plot(history['train']['i'][1:], history['train']['e'][1:], label='training')\n",
    "        plt.xlabel('iterations'); plt.ylabel('errors'); plt.grid(True, linewidth=0.2); plt.legend()"
   ]
  },
  {
   "cell_type": "markdown",
   "metadata": {},
   "source": [
    "# Pruner"
   ]
  },
  {
   "cell_type": "markdown",
   "metadata": {},
   "source": [
    "Please note that:\n",
    "$\\frac{\\partial L}{\\partial c_j} = \\frac{\\partial L}{\\partial w_j} \\cdot w_j$. This formula was used to simplify the calculations."
   ]
  },
  {
   "cell_type": "code",
   "execution_count": 61,
   "metadata": {},
   "outputs": [],
   "source": [
    "class Pruner:\n",
    "    def __init__(self, model, loader=None, device='cpu', silent=False):\n",
    "        self.device = device\n",
    "        self.loader = loader\n",
    "        self.model = model\n",
    "        \n",
    "#         self.weights = list(model.parameters())\n",
    "\n",
    "        self.weights = []\n",
    "        for layer in model:\n",
    "            try:\n",
    "                self.weights.append(layer.weight)\n",
    "            except AttributeError:\n",
    "                pass\n",
    "\n",
    "        self.indicators = [pt.ones_like(layer) for layer in self.weights]\n",
    "        self.pruned = [0 for _ in range(len(self.indicators))]\n",
    " \n",
    "        if not silent:\n",
    "            print(\"number of weights to prune:\", [x.numel() for x in self.indicators])\n",
    "\n",
    "    def indicate(self):\n",
    "        for weight, indicator in zip(self.weights, self.indicators):\n",
    "            weight.data = weight * indicator\n",
    "       \n",
    "    \n",
    "    def snip(self, sparsity, mini_batches=1, silent=False): # prunes due to SNIP method\n",
    "        mini_batch=0\n",
    "        self.indicate()\n",
    "        self.model.zero_grad()\n",
    "        grads = [pt.zeros_like(w) for w in self.weights]\n",
    "        \n",
    "        for x, y in self.loader:\n",
    "            x = self.model.forward(x)\n",
    "            L = pt.nn.CrossEntropyLoss()(x, y)\n",
    "            grads = [g.abs()+ag.abs() for g, ag in zip(grads, pt.autograd.grad(L, self.weights))]\n",
    "            mini_batch+=1\n",
    "            if mini_batch>=mini_batches: break\n",
    "\n",
    "        with pt.no_grad():\n",
    "            saliences = [(grad * weight).view(-1).abs().cpu() for weight, grad in zip(self.weights, grads)]\n",
    "            saliences = pt.cat(saliences)\n",
    "            \n",
    "            thresh = float( saliences.kthvalue( int(sparsity * saliences.shape[0] ) )[0] )\n",
    "            \n",
    "            for j, layer in enumerate(self.indicators):\n",
    "                layer[ (grads[j] * self.weights[j]).abs() <= thresh ] = 0\n",
    "                self.pruned[j] = int(pt.sum(layer == 0))\n",
    "        self.model.zero_grad() \n",
    "        \n",
    "        if not silent:\n",
    "            print(\"weights left: \", [self.indicators[i].numel()-pruned for i, pruned in enumerate(self.pruned)],\n",
    "                  \"sparsities: \", [round(100*pruned/self.indicators[i].numel(), 2) for i, pruned in enumerate(self.pruned)])\n",
    "            \n",
    "            \n",
    "    def snipR(self, sparsity, silent=False):\n",
    "        with pt.no_grad():\n",
    "            saliences = [pt.zeros_like(w) for w in self.weights]\n",
    "            x, y = next(iter(self.loader))\n",
    "            z = self.model.forward(x)\n",
    "            L0 = pt.nn.CrossEntropyLoss()(z, y) # Loss\n",
    "\n",
    "            for laynum, layer in enumerate(self.weights):\n",
    "                if not silent: print(\"layer \", laynum, \"...\")\n",
    "                for weight in range(layer.numel()):\n",
    "                    temp = layer.view(-1)[weight].clone()\n",
    "                    layer.view(-1)[weight] = 0\n",
    "\n",
    "                    z = self.model.forward(x) # Forward pass\n",
    "                    L = pt.nn.CrossEntropyLoss()(z, y) # Loss\n",
    "                    saliences[laynum].view(-1)[weight] = (L-L0).abs()    \n",
    "                    layer.view(-1)[weight] = temp\n",
    "                \n",
    "            saliences_bag = pt.cat([s.view(-1) for s in saliences]).cpu()\n",
    "            thresh = float( saliences_bag.kthvalue( int(sparsity * saliences_bag.numel() ) )[0] )\n",
    "\n",
    "            for j, layer in enumerate(self.indicators):\n",
    "                layer[ saliences[j] <= thresh ] = 0\n",
    "                self.pruned[j] = int(pt.sum(layer == 0))   \n",
    "        \n",
    "        if not silent:\n",
    "            print(\"weights left: \", [self.indicators[i].numel()-pruned for i, pruned in enumerate(self.pruned)],\n",
    "                  \"sparsities: \", [round(100*pruned/self.indicators[i].numel(), 2) for i, pruned in enumerate(self.pruned)])"
   ]
  },
  {
   "cell_type": "markdown",
   "metadata": {},
   "source": [
    "# Model definitions"
   ]
  },
  {
   "cell_type": "code",
   "execution_count": 62,
   "metadata": {},
   "outputs": [],
   "source": [
    "def LeNet_300_100():\n",
    "    model = pt.nn.Sequential(\n",
    "        LayerFlatten(),\n",
    "        pt.nn.Linear(784, 300),\n",
    "        pt.nn.ReLU(),\n",
    "        pt.nn.Linear(300, 100),\n",
    "        pt.nn.ReLU(),\n",
    "        pt.nn.Linear(100, 10),\n",
    "        pt.nn.LogSoftmax(dim=-1))\n",
    "    return model"
   ]
  },
  {
   "cell_type": "code",
   "execution_count": 63,
   "metadata": {},
   "outputs": [],
   "source": [
    "def LeNet5(init=None):\n",
    "    model = pt.nn.Sequential(\n",
    "        LayerThicken(), \n",
    "        pt.nn.Conv2d(1, 6, kernel_size=5, padding=2),\n",
    "        pt.nn.ReLU(),\n",
    "        pt.nn.MaxPool2d(kernel_size=2),\n",
    "        pt.nn.Conv2d(6, 16, kernel_size=5),\n",
    "        pt.nn.ReLU(),\n",
    "        pt.nn.MaxPool2d(kernel_size=2),\n",
    "        LayerFlatten(),\n",
    "        pt.nn.Linear(400,120),\n",
    "        pt.nn.ReLU(),\n",
    "        pt.nn.Linear(120, 84),\n",
    "        pt.nn.ReLU(),\n",
    "        pt.nn.Linear(84, 10),\n",
    "        pt.nn.LogSoftmax(dim=-1))\n",
    "    return model"
   ]
  },
  {
   "cell_type": "code",
   "execution_count": 72,
   "metadata": {},
   "outputs": [],
   "source": [
    "def vgg16():\n",
    "    vgg = models.vgg16_bn()\n",
    "    vgg.features[0] = pt.nn.Conv2d(1, 64, kernel_size=(3, 3), stride=(1, 1), padding=(1, 1))\n",
    "    vgg.classifier = pt.nn.Sequential(\n",
    "        pt.nn.Linear(512, 300),\n",
    "        pt.nn.ReLU(),\n",
    "        pt.nn.BatchNorm1d(300),\n",
    "        pt.nn.Linear(300,10),\n",
    "        pt.nn.LogSoftmax(dim=-1))\n",
    "    model = pt.nn.Sequential( LayerThicken(), *vgg.features , LayerFlatten(), *vgg.classifier )\n",
    "    return model"
   ]
  },
  {
   "cell_type": "markdown",
   "metadata": {},
   "source": [
    "# Network training - example"
   ]
  },
  {
   "cell_type": "code",
   "execution_count": 76,
   "metadata": {},
   "outputs": [
    {
     "name": "stdout",
     "output_type": "stream",
     "text": [
      "number of weights to prune: [235200, 30000, 1000]\n",
      "weights left:  [828, 1453, 381] sparsities:  [99.65, 95.16, 61.9]\n"
     ]
    }
   ],
   "source": [
    "model = LeNet_300_100()\n",
    "nn = NN(model, DEVICE)\n",
    "\n",
    "prune = Pruner(model, RamLoader['train'], DEVICE, silent=False)\n",
    "prune.snip(0.99)\n",
    "prune.indicate()"
   ]
  },
  {
   "cell_type": "code",
   "execution_count": 78,
   "metadata": {},
   "outputs": [],
   "source": [
    "params = list(model.parameters())[0].reshape(-1).cpu().detach().numpy()"
   ]
  },
  {
   "cell_type": "code",
   "execution_count": 79,
   "metadata": {},
   "outputs": [],
   "source": [
    "params = params[params!=0]"
   ]
  },
  {
   "cell_type": "code",
   "execution_count": 80,
   "metadata": {},
   "outputs": [
    {
     "data": {
      "image/png": "[encoded data removed]",
      "text/plain": [
       "<Figure size 432x288 with 1 Axes>"
      ]
     },
     "metadata": {
      "needs_background": "light"
     },
     "output_type": "display_data"
    }
   ],
   "source": [
    "plt.hist( params, bins=100 );"
   ]
  },
  {
   "cell_type": "code",
   "execution_count": 75,
   "metadata": {},
   "outputs": [
    {
     "name": "stdout",
     "output_type": "stream",
     "text": [
      "number of weights to prune: [235200, 30000, 1000]\n",
      "weights left:  [809, 1459, 394] sparsities:  [99.66, 95.14, 60.6]\n",
      "TRAINING:\n",
      "epoch      | time       | error rate   - mistakes...\n",
      "\n",
      "Epoch    0 | time 0.0846 | lr 0.10000 | tr 100.000% | eval 87.286% - 9165 mis\n",
      "Epoch    5 | time 3.870 | lr 0.10000 | tr   4.630% | eval  7.905% - 830 mis\n",
      "Epoch   10 | time 3.900 | lr 0.10000 | tr   3.704% | eval  6.838% - 718 mis\n",
      "Epoch   15 | time 4.060 | lr 0.10000 | tr   7.407% | eval  6.229% - 654 mis\n",
      "Epoch   20 | time 3.950 | lr 0.10000 | tr   5.556% | eval  6.552% - 688 mis\n",
      "Epoch   25 | time 4.190 | lr 0.10000 | tr   5.556% | eval  6.381% - 670 mis\n",
      "Epoch   30 | time 3.960 | lr 0.10000 | tr   6.481% | eval  6.143% - 645 mis\n",
      "Epoch   35 | time 4.020 | lr 0.10000 | tr   4.630% | eval  6.619% - 695 mis\n",
      "Epoch   40 | time 3.960 | lr 0.01000 | tr   2.778% | eval  6.571% - 690 mis\n",
      "Epoch   45 | time 3.890 | lr 0.01000 | tr   4.630% | eval  5.086% - 534 mis\n",
      "Epoch   50 | time 3.960 | lr 0.01000 | tr   3.704% | eval  4.905% - 515 mis\n",
      "Epoch   55 | time 3.910 | lr 0.01000 | tr   2.778% | eval  4.867% - 511 mis\n",
      "Epoch   60 | time 4.010 | lr 0.01000 | tr   6.481% | eval  4.905% - 515 mis\n",
      "Epoch   65 | time 3.950 | lr 0.01000 | tr   3.704% | eval  4.990% - 524 mis\n",
      "Epoch   70 | time 3.970 | lr 0.01000 | tr   3.704% | eval  4.895% - 514 mis\n",
      "Epoch   75 | time 4.220 | lr 0.01000 | tr   3.704% | eval  4.867% - 511 mis\n",
      "Epoch   80 | time 4.900 | lr 0.00100 | tr   5.556% | eval  4.876% - 512 mis\n",
      "Epoch   85 | time 4.270 | lr 0.00100 | tr   3.704% | eval  4.762% - 500 mis\n",
      "Epoch   90 | time 4.080 | lr 0.00100 | tr   5.556% | eval  4.781% - 502 mis\n",
      "Epoch   95 | time 3.970 | lr 0.00100 | tr   2.778% | eval  4.752% - 499 mis\n",
      "Epoch  100 | time 3.990 | lr 0.00100 | tr   8.333% | eval  4.781% - 502 mis\n",
      "Epoch  105 | time 3.950 | lr 0.00100 | tr   2.778% | eval  4.743% - 498 mis\n",
      "Epoch  110 | time 3.890 | lr 0.00100 | tr   5.556% | eval  4.781% - 502 mis\n",
      "Epoch  115 | time 3.850 | lr 0.00100 | tr   0.926% | eval  4.667% - 490 mis\n",
      "Epoch  120 | time 3.870 | lr 0.00010 | tr   4.630% | eval  4.752% - 499 mis\n",
      "Epoch  125 | time 3.870 | lr 0.00010 | tr   7.407% | eval  4.724% - 496 mis\n",
      "Epoch  130 | time 3.960 | lr 0.00010 | tr   3.704% | eval  4.733% - 497 mis\n",
      "Epoch  135 | time 3.930 | lr 0.00010 | tr   4.630% | eval  4.733% - 497 mis\n",
      "Epoch  140 | time 4.020 | lr 0.00010 | tr   2.778% | eval  4.743% - 498 mis\n",
      "\n",
      "\n"
     ]
    },
    {
     "data": {
      "image/png": "[encoded data removed]",
      "text/plain": [
       "<Figure size 1080x288 with 2 Axes>"
      ]
     },
     "metadata": {
      "needs_background": "light"
     },
     "output_type": "display_data"
    }
   ],
   "source": [
    "model = LeNet_300_100()\n",
    "nn = NN(model, DEVICE)\n",
    "\n",
    "prune = Pruner(model, RamLoader['train'], DEVICE, silent=False)\n",
    "prune.snip(0.99)\n",
    "\n",
    "loop_operation=[prune.indicate]\n",
    "\n",
    "nn.optim = pt.optim.SGD(model.parameters(), lr = 0.1, momentum=0.9, weight_decay=0.0005)\n",
    "nn.scheduler = pt.optim.lr_scheduler.StepLR(nn.optim, step_size=40, gamma=0.1)\n",
    "\n",
    "hist = nn.fit( RamLoader, pt.nn.CrossEntropyLoss(), s_report=float('inf'), v_report=5, max_epochs=140, silent=False, loop_operation=loop_operation)"
   ]
  },
  {
   "cell_type": "code",
   "execution_count": null,
   "metadata": {},
   "outputs": [],
   "source": []
  }
 ],
 "metadata": {
  "kernelspec": {
   "display_name": "Python 3",
   "language": "python",
   "name": "python3"
  },
  "language_info": {
   "codemirror_mode": {
    "name": "ipython",
    "version": 3
   },
   "file_extension": ".py",
   "mimetype": "text/x-python",
   "name": "python",
   "nbconvert_exporter": "python",
   "pygments_lexer": "ipython3",
   "version": "3.7.3"
  }
 },
 "nbformat": 4,
 "nbformat_minor": 2
}
